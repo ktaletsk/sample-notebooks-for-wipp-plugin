{
 "cells": [
  {
   "cell_type": "markdown",
   "metadata": {
    "Collapsed": "false",
    "kernel": "SoS"
   },
   "source": [
    "# Sample Jupyter Notebook for WIPP Workflow"
   ]
  },
  {
   "cell_type": "markdown",
   "metadata": {
    "Collapsed": "false",
    "kernel": "SoS"
   },
   "source": [
    "## Read csv collection from WIPP"
   ]
  },
  {
   "cell_type": "code",
   "execution_count": null,
   "metadata": {
    "Collapsed": "false",
    "kernel": "SoS"
   },
   "outputs": [],
   "source": [
    "# # UNCOMMENT THIS CODE IF RUNNING INTERACTIVELY\n",
    "# import requests\n",
    "# api_route = 'http://wipp-backend:8080/api/'\n",
    "# collections_path = '/opt/shared/wipp/csv-collections/'\n",
    "\n",
    "# def get_collection_path(collection_name):\n",
    "#     r = requests.get(api_route + 'csvCollections/search/findByNameContainingIgnoreCase?name=' + collection_name)\n",
    "#     if r.status_code==200:\n",
    "#         collection_id = r.json()['_embedded']['csvCollections'][0]['id']\n",
    "#     collection_path = collections_path + collection_id\n",
    "#     return collection_path\n",
    "\n",
    "# input_path = get_collection_path('CSV-Collection-Merging-7-merge-1-2-3-4-5-output')\n",
    "# output_path = '/home/jovyan/output'"
   ]
  },
  {
   "cell_type": "markdown",
   "metadata": {
    "Collapsed": "false"
   },
   "source": [
    "For running as a WIPP Workflow, please set the tags for cell below. Select the cell below and click **Notebook Tools** on the left panel <img src=\"data:image/svg+xml;base64,PHN2ZyB4bWxucz0iaHR0cDovL3d3dy53My5vcmcvMjAwMC9zdmciIHdpZHRoPSIyNCIgaGVpZ2h0PSIyNCIgdmlld0JveD0iMCAwIDI0IDI0Ij4KICAgIDxwYXRoCiAgICAgICAgY2xhc3M9ImpwLWljb24zIgogICAgICAgIGZpbGw9IiM2MTYxNjEiCiAgICAgICAgZD0iTTIyLjcgMTlsLTkuMS05LjFjLjktMi4zLjQtNS0xLjUtNi45LTItMi01LTIuNC03LjQtMS4zTDkgNiA2IDkgMS42IDQuN0MuNCA3LjEuOSAxMC4xIDIuOSAxMi4xYzEuOSAxLjkgNC42IDIuNCA2LjkgMS41bDkuMSA5LjFjLjQuNCAxIC40IDEuNCAwbDIuMy0yLjNjLjUtLjQuNS0xLjEuMS0xLjR6IgogICAgLz4KPC9zdmc+\">. Navigate to **Advanced Tools** -> **Cell Metadata**, then add the following entry:\n",
    "```\n",
    "\"tags\": [ \"parameters\" ]\n",
    "```\n",
    "Then all variables in this cell will become input parameters for WIPP. Here we only need paths to input and output image collections"
   ]
  },
  {
   "cell_type": "code",
   "execution_count": null,
   "metadata": {
    "Collapsed": "false",
    "tags": [
     "parameters"
    ]
   },
   "outputs": [],
   "source": [
    "# KEEP THIS CODE UNCOMMENTED WHEN RUNNING AS WIPP WORKFLOW TO SUPPLY IMAGE COLLECTION NAMES\n",
    "input_path = ''\n",
    "output_path = ''"
   ]
  },
  {
   "cell_type": "markdown",
   "metadata": {
    "Collapsed": "false",
    "kernel": "SoS"
   },
   "source": [
    "## Concatenate all CSVs in csv collection"
   ]
  },
  {
   "cell_type": "code",
   "execution_count": null,
   "metadata": {
    "Collapsed": "false",
    "kernel": "Python3"
   },
   "outputs": [],
   "source": [
    "import os,glob\n",
    "import numpy as np\n",
    "import pandas as pd"
   ]
  },
  {
   "cell_type": "code",
   "execution_count": null,
   "metadata": {
    "Collapsed": "false",
    "kernel": "Python3"
   },
   "outputs": [],
   "source": [
    "#Read all the files(.tif) in the directory using cv2\n",
    "filenames = glob.glob(os.path.join(input_path, '*.csv'))"
   ]
  },
  {
   "cell_type": "code",
   "execution_count": null,
   "metadata": {
    "Collapsed": "false"
   },
   "outputs": [],
   "source": [
    "csvs = [pd.read_csv(file) for file in filenames]"
   ]
  },
  {
   "cell_type": "code",
   "execution_count": null,
   "metadata": {
    "Collapsed": "false"
   },
   "outputs": [],
   "source": [
    "[csv.shape for csv in csvs]"
   ]
  },
  {
   "cell_type": "code",
   "execution_count": null,
   "metadata": {
    "Collapsed": "false"
   },
   "outputs": [],
   "source": [
    "df_merge = pd.concat(csvs)"
   ]
  },
  {
   "cell_type": "code",
   "execution_count": null,
   "metadata": {
    "Collapsed": "false"
   },
   "outputs": [],
   "source": [
    "df_merge.shape"
   ]
  },
  {
   "cell_type": "code",
   "execution_count": null,
   "metadata": {
    "Collapsed": "false"
   },
   "outputs": [],
   "source": [
    "#Save result to csv collection\n",
    "df_merge.to_csv(os.path.join(output_path, 'out.csv'), index=False)"
   ]
  }
 ],
 "metadata": {
  "kernelspec": {
   "display_name": "Python 3",
   "language": "python",
   "name": "python3"
  },
  "language_info": {
   "codemirror_mode": {
    "name": "ipython",
    "version": 3
   },
   "file_extension": ".py",
   "mimetype": "text/x-python",
   "name": "python",
   "nbconvert_exporter": "python",
   "pygments_lexer": "ipython3",
   "version": "3.7.3"
  }
 },
 "nbformat": 4,
 "nbformat_minor": 4
}
