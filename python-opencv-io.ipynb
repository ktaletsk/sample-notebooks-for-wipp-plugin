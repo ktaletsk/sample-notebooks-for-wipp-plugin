{
 "cells": [
  {
   "cell_type": "markdown",
   "metadata": {
    "Collapsed": "false",
    "kernel": "SoS"
   },
   "source": [
    "# Sample Jupyter Notebook for WIPP Workflow"
   ]
  },
  {
   "cell_type": "markdown",
   "metadata": {
    "Collapsed": "false",
    "kernel": "SoS"
   },
   "source": [
    "## Install Python libraries not pre-installed in Polus Notebooks"
   ]
  },
  {
   "cell_type": "code",
   "execution_count": null,
   "metadata": {
    "Collapsed": "false"
   },
   "outputs": [],
   "source": [
    "!pip install -q opencv-python"
   ]
  },
  {
   "cell_type": "markdown",
   "metadata": {
    "Collapsed": "false",
    "kernel": "SoS"
   },
   "source": [
    "## Read image collections from WIPP"
   ]
  },
  {
   "cell_type": "code",
   "execution_count": null,
   "metadata": {
    "Collapsed": "false",
    "kernel": "SoS"
   },
   "outputs": [],
   "source": [
    "# # UNCOMMENT THIS CODE IF RUNNING INTERACTIVELY\n",
    "# import requests\n",
    "# api_route = 'http://wipp-backend:8080/api/'\n",
    "# collections_path = '/opt/shared/wipp/collections/'\n",
    "\n",
    "# def get_collection_path(collection_name):\n",
    "#     r = requests.get(api_route + 'imagesCollections/search/findByNameContainingIgnoreCase?name=' + collection_name)\n",
    "#     if r.status_code==200:\n",
    "#         collection_id = r.json()['_embedded']['imagesCollections'][0]['id']\n",
    "#     collection_path = collections_path + collection_id + '/images/'\n",
    "#     return collection_path\n",
    "\n",
    "# input_path = get_collection_path('test-data-pyr')\n",
    "# output_path = '/home/jovyan/output'"
   ]
  },
  {
   "cell_type": "markdown",
   "metadata": {
    "Collapsed": "false",
    "kernel": "SoS"
   },
   "source": [
    "For running as a WIPP Workflow, please set the tags for cell below. Select the cell below and click **Notebook Tools** on the left panel ![Alt text](build.svg). Navigate to **Advanced Tools** -> **Cell Metadata**, then add the following entry:\n",
    "```\n",
    "\"tags\": [ \"parameters\" ]\n",
    "```\n",
    "Then all variables in this cell will become input parameters for WIPP. Here we only need paths to input and output image collections"
   ]
  },
  {
   "cell_type": "code",
   "execution_count": null,
   "metadata": {
    "Collapsed": "false",
    "kernel": "Python3",
    "tags": [
     "parameters"
    ]
   },
   "outputs": [],
   "source": [
    "# KEEP THIS CODE UNCOMMENTED WHEN RUNNING AS WIPP WORKFLOW TO SUPPLY IMAGE COLLECTION NAMES\n",
    "input_path = ''\n",
    "output_path = ''"
   ]
  },
  {
   "cell_type": "markdown",
   "metadata": {
    "Collapsed": "false",
    "kernel": "SoS"
   },
   "source": [
    "## Example code\n",
    "\n",
    "In this example we are reading the images from input image collection and write them to output image collection"
   ]
  },
  {
   "cell_type": "code",
   "execution_count": null,
   "metadata": {
    "Collapsed": "false",
    "kernel": "Python3"
   },
   "outputs": [],
   "source": [
    "import cv2\n",
    "import os,glob\n",
    "import numpy as np"
   ]
  },
  {
   "cell_type": "code",
   "execution_count": null,
   "metadata": {
    "Collapsed": "false",
    "kernel": "Python3"
   },
   "outputs": [],
   "source": [
    "#Read all the files(.tif) in the directory using cv2\n",
    "filenames = glob.glob(os.path.join(input_path, '*.tif'))\n",
    "images = [cv2.imread(img, cv2.IMREAD_COLOR) for img in filenames]"
   ]
  },
  {
   "cell_type": "code",
   "execution_count": null,
   "metadata": {
    "Collapsed": "false",
    "kernel": "Python3"
   },
   "outputs": [],
   "source": [
    "# Example of saving images to output image collection\n",
    "for index,img_file in enumerate(images):\n",
    "    title =  os.path.basename(filenames[index])\n",
    "    img = cv2.cvtColor(img_file, cv2.COLOR_BGR2GRAY)\n",
    "    cv2.imwrite(output_path + f\"/Output_image_{title}\", img)"
   ]
  },
  {
   "cell_type": "code",
   "execution_count": null,
   "metadata": {
    "Collapsed": "false",
    "kernel": "SoS"
   },
   "outputs": [],
   "source": [
    "# # Example of saving data to output image collection\n",
    "# with open(output_path + '/stats.dat', 'w') as f:\n",
    "#     for image in images:\n",
    "#         f.write(f\"{image.shape}\\n\")"
   ]
  }
 ],
 "metadata": {
  "kernelspec": {
   "display_name": "Python 3",
   "language": "python",
   "name": "python3"
  },
  "language_info": {
   "codemirror_mode": {
    "name": "ipython",
    "version": 3
   },
   "file_extension": ".py",
   "mimetype": "text/x-python",
   "name": "python",
   "nbconvert_exporter": "python",
   "pygments_lexer": "ipython3",
   "version": "3.7.3"
  }
 },
 "nbformat": 4,
 "nbformat_minor": 4
}
