{
 "cells": [
  {
   "cell_type": "markdown",
   "metadata": {
    "Collapsed": "false",
    "kernel": "SoS"
   },
   "source": [
    "# Sample polyglot notebook using SoS"
   ]
  },
  {
   "cell_type": "markdown",
   "metadata": {
    "Collapsed": "false",
    "kernel": "SoS"
   },
   "source": [
    "This notebook implements sample workflow using different language kernels:\n",
    "1. Use Python 3 to read the first image from image collection with OpenCV\n",
    "2. Handoff the image to SoS kernel to make a 50x50 patch of the image\n",
    "3. Send the patch to Octave kernel and do some transformation on the patch array\n",
    "4. Return the patch to Python to write it to the output image collection using OpenCV"
   ]
  },
  {
   "cell_type": "markdown",
   "metadata": {
    "Collapsed": "false",
    "kernel": "SoS"
   },
   "source": [
    "## Install Python libraries not pre-installed in Polus Notebooks"
   ]
  },
  {
   "cell_type": "code",
   "execution_count": null,
   "metadata": {
    "Collapsed": "false",
    "kernel": "Python3"
   },
   "outputs": [],
   "source": [
    "!pip install opencv-python"
   ]
  },
  {
   "cell_type": "markdown",
   "metadata": {
    "Collapsed": "false",
    "kernel": "SoS"
   },
   "source": [
    "## Read image collections from WIPP"
   ]
  },
  {
   "cell_type": "code",
   "execution_count": null,
   "metadata": {
    "Collapsed": "false",
    "kernel": "Python3"
   },
   "outputs": [],
   "source": [
    "# # UNCOMMENT THIS CODE IF RUNNING INTERACTIVELY\n",
    "# import requests\n",
    "# api_route = 'http://wipp-backend:8080/api/'\n",
    "# collections_path = '/opt/shared/wipp/collections/'\n",
    "\n",
    "# def get_collection_path(collection_name):\n",
    "#     r = requests.get(api_route + 'imagesCollections/search/findByNameContainingIgnoreCase?name=' + collection_name)\n",
    "#     if r.status_code==200:\n",
    "#         collection_id = r.json()['_embedded']['imagesCollections'][0]['id']\n",
    "#     collection_path = collections_path + collection_id + '/images/'\n",
    "#     return collection_path\n",
    "\n",
    "# input_path = get_collection_path('test-data-pyr')\n",
    "# output_path = '/home/jovyan/output'"
   ]
  },
  {
   "cell_type": "markdown",
   "metadata": {
    "Collapsed": "false",
    "kernel": "SoS"
   },
   "source": [
    "For running as a WIPP Workflow, please set the tags for cell below. Select the cell below and click **Notebook Tools** on the left panel ![Alt text](build.svg). Navigate to **Advanced Tools** -> **Cell Metadata**, then add the following entry:\n",
    "```\n",
    "\"tags\": [ \"parameters\" ]\n",
    "```\n",
    "Then all variables in this cell will become input parameters for WIPP. Here we only need paths to input and output image collections"
   ]
  },
  {
   "cell_type": "code",
   "execution_count": null,
   "metadata": {
    "Collapsed": "false",
    "kernel": "Python3",
    "tags": [
     "parameters"
    ]
   },
   "outputs": [],
   "source": [
    "# KEEP THIS CODE UNCOMMENTED WHEN RUNNING AS WIPP WORKFLOW TO SUPPLY IMAGE COLLECTION NAMES\n",
    "input_path = ''\n",
    "output_path = ''"
   ]
  },
  {
   "cell_type": "markdown",
   "metadata": {
    "Collapsed": "false",
    "kernel": "SoS"
   },
   "source": [
    "## Example code\n",
    "\n",
    "In this example we are reading the images from input image collection and write them to output image collection"
   ]
  },
  {
   "cell_type": "code",
   "execution_count": null,
   "metadata": {
    "Collapsed": "false",
    "kernel": "Python3"
   },
   "outputs": [],
   "source": [
    "import cv2\n",
    "import os,glob\n",
    "import numpy as np"
   ]
  },
  {
   "cell_type": "code",
   "execution_count": null,
   "metadata": {
    "Collapsed": "false",
    "kernel": "Python3"
   },
   "outputs": [],
   "source": [
    "#Read all the files(.tif) in the directory using cv2\n",
    "filenames = glob.glob(os.path.join(input_path, '*.tif'))\n",
    "images = [cv2.imread(img, cv2.IMREAD_COLOR) for img in filenames]"
   ]
  },
  {
   "cell_type": "code",
   "execution_count": null,
   "metadata": {
    "Collapsed": "false",
    "kernel": "Python3"
   },
   "outputs": [],
   "source": [
    "%put img\n",
    "img = cv2.cvtColor(images[0], cv2.COLOR_BGR2GRAY)"
   ]
  },
  {
   "cell_type": "code",
   "execution_count": null,
   "metadata": {
    "Collapsed": "false",
    "kernel": "SoS"
   },
   "outputs": [],
   "source": [
    "patch = img[0:50,0:50]"
   ]
  },
  {
   "cell_type": "code",
   "execution_count": null,
   "metadata": {
    "Collapsed": "false",
    "kernel": "Octave"
   },
   "outputs": [],
   "source": [
    "%get patch\n",
    "%put p\n",
    "p = rot90 (patch, -1);"
   ]
  },
  {
   "cell_type": "code",
   "execution_count": null,
   "metadata": {
    "Collapsed": "false",
    "kernel": "Python3"
   },
   "outputs": [],
   "source": [
    "%get p\n",
    "img[0:50,0:50] = np.array(p)\n",
    "title =  os.path.basename(filenames[0])\n",
    "cv2.imwrite(output_path + f\"/Output_image_{title}\", img)"
   ]
  }
 ],
 "metadata": {
  "kernelspec": {
   "display_name": "SoS",
   "language": "sos",
   "name": "sos"
  },
  "language_info": {
   "codemirror_mode": "sos",
   "file_extension": ".sos",
   "mimetype": "text/x-sos",
   "name": "sos",
   "nbconvert_exporter": "sos_notebook.converter.SoS_Exporter",
   "pygments_lexer": "sos"
  },
  "sos": {
   "kernels": [
    [
     "Octave",
     "octave",
     "Octave",
     "#dff8fb",
     ""
    ],
    [
     "Python3",
     "python3",
     "Python3",
     "#FFD91A",
     {
      "name": "ipython",
      "version": 3
     }
    ],
    [
     "SoS",
     "sos",
     "",
     "",
     "sos"
    ]
   ],
   "version": "0.20.3"
  }
 },
 "nbformat": 4,
 "nbformat_minor": 4
}
